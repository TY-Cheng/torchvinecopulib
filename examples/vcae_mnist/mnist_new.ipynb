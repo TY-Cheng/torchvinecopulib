{
 "cells": [
  {
   "cell_type": "code",
   "execution_count": null,
   "id": "e2dfe287",
   "metadata": {},
   "outputs": [
    {
     "name": "stderr",
     "output_type": "stream",
     "text": [
      "Running experiments:   0%|          | 0/1 [00:00<?, ?it/s]Using default `ModelCheckpoint`. Consider installing `litmodels` package to enable `LitModelCheckpoint` for automatic upload to the Lightning model registry.\n",
      "GPU available: True (cuda), used: True\n",
      "TPU available: False, using: 0 TPU cores\n",
      "HPU available: False, using: 0 HPUs\n",
      "You are using a CUDA device ('GRID A100D-16C') that has Tensor Cores. To properly utilize them, you should set `torch.set_float32_matmul_precision('medium' | 'high')` which will trade-off precision for performance. For more details, read https://pytorch.org/docs/stable/generated/torch.set_float32_matmul_precision.html#torch.set_float32_matmul_precision\n",
      "LOCAL_RANK: 0 - CUDA_VISIBLE_DEVICES: [0]\n",
      "`Trainer.fit` stopped: `max_epochs=10` reached.\n",
      "Using default `ModelCheckpoint`. Consider installing `litmodels` package to enable `LitModelCheckpoint` for automatic upload to the Lightning model registry.\n",
      "GPU available: True (cuda), used: True\n",
      "TPU available: False, using: 0 TPU cores\n",
      "HPU available: False, using: 0 HPUs\n",
      "LOCAL_RANK: 0 - CUDA_VISIBLE_DEVICES: [0]\n",
      "`Trainer.fit` stopped: `max_epochs=10` reached.\n"
     ]
    }
   ],
   "source": [
    "import pandas as pd\n",
    "from tqdm import tqdm\n",
    "from vcae_mnist.config import config\n",
    "from vcae_mnist.experiment import run_experiment\n",
    "\n",
    "results = []\n",
    "\n",
    "for seed in tqdm(range(1), desc=\"Running experiments\"):\n",
    "    result = run_experiment(seed, config)\n",
    "    results.append(result)\n",
    "\n",
    "\n",
    "df_results = pd.DataFrame(results)\n",
    "df_results.to_csv(\"experiment_results.csv\", index=False)"
   ]
  },
  {
   "cell_type": "code",
   "execution_count": 12,
   "id": "8ac6e908",
   "metadata": {},
   "outputs": [],
   "source": [
    "import glob\n",
    "import os\n",
    "\n",
    "import pandas as pd\n",
    "\n",
    "# Replace with your folder path\n",
    "folder = os.getcwd()\n",
    "\n",
    "# List all matching CSV files\n",
    "csv_files = glob.glob(os.path.join(folder, \"results_*.csv\"))\n",
    "\n",
    "# Read and concatenate all into a single DataFrame\n",
    "df_all = pd.concat((pd.read_csv(f) for f in csv_files), ignore_index=True)"
   ]
  },
  {
   "cell_type": "code",
   "execution_count": 55,
   "id": "78d2a6fb",
   "metadata": {},
   "outputs": [],
   "source": [
    "df_long = (\n",
    "    df_all.melt(id_vars=\"seed\", var_name=\"variable\", value_name=\"value\")\n",
    "    .assign(\n",
    "        metric=lambda x: x[\"variable\"].str.extract(r\"^([a-zA-Z]+)\"),\n",
    "        method=lambda x: x[\"variable\"].str.extract(r\"_(.*)$\").fillna(\"\"),\n",
    "    )\n",
    "    .drop(columns=[\"variable\"])\n",
    "    .pivot(index=[\"seed\", \"method\"], columns=\"metric\", values=\"value\")\n",
    "    .reset_index()\n",
    "    .drop(columns=[\"seed\"])\n",
    ")"
   ]
  },
  {
   "cell_type": "code",
   "execution_count": 59,
   "id": "f854dc62",
   "metadata": {},
   "outputs": [
    {
     "data": {
      "text/html": [
       "<div>\n",
       "<style scoped>\n",
       "    .dataframe tbody tr th:only-of-type {\n",
       "        vertical-align: middle;\n",
       "    }\n",
       "\n",
       "    .dataframe tbody tr th {\n",
       "        vertical-align: top;\n",
       "    }\n",
       "\n",
       "    .dataframe thead th {\n",
       "        text-align: right;\n",
       "    }\n",
       "</style>\n",
       "<table border=\"1\" class=\"dataframe\">\n",
       "  <thead>\n",
       "    <tr style=\"text-align: right;\">\n",
       "      <th></th>\n",
       "      <th>fid</th>\n",
       "      <th>loglik</th>\n",
       "      <th>mmd</th>\n",
       "      <th>mse</th>\n",
       "    </tr>\n",
       "    <tr>\n",
       "      <th>method</th>\n",
       "      <th></th>\n",
       "      <th></th>\n",
       "      <th></th>\n",
       "      <th></th>\n",
       "    </tr>\n",
       "  </thead>\n",
       "  <tbody>\n",
       "    <tr>\n",
       "      <th>initial</th>\n",
       "      <td>6.259 ± 0.099</td>\n",
       "      <td>-17.179 ± 1.131</td>\n",
       "      <td>0.514 ± 0.027</td>\n",
       "      <td>0.054 ± 0.001</td>\n",
       "    </tr>\n",
       "    <tr>\n",
       "      <th>refit</th>\n",
       "      <td>6.62 ± 0.197</td>\n",
       "      <td>-8.098 ± 1.199</td>\n",
       "      <td>0.492 ± 0.03</td>\n",
       "      <td>0.052 ± 0.001</td>\n",
       "    </tr>\n",
       "  </tbody>\n",
       "</table>\n",
       "</div>"
      ],
      "text/plain": [
       "                   fid           loglik            mmd            mse\n",
       "method                                                               \n",
       "initial  6.259 ± 0.099  -17.179 ± 1.131  0.514 ± 0.027  0.054 ± 0.001\n",
       "refit     6.62 ± 0.197   -8.098 ± 1.199   0.492 ± 0.03  0.052 ± 0.001"
      ]
     },
     "execution_count": 59,
     "metadata": {},
     "output_type": "execute_result"
    }
   ],
   "source": [
    "import numpy as np\n",
    "\n",
    "\n",
    "def mean_ci(x, digits: int = 3) -> str:\n",
    "    x = np.asarray(x, dtype=np.float64)\n",
    "    n = x.size\n",
    "    if n == 0:\n",
    "        return \"nan ± nan\"\n",
    "    mean = np.mean(x)\n",
    "    se = np.std(x, ddof=1) / np.sqrt(n)\n",
    "    ci_half_width = 1.96 * se\n",
    "    return f\"{round(mean, digits)} ± {round(ci_half_width, digits)}\"\n",
    "\n",
    "\n",
    "summary = df_long.groupby(\"method\").agg(mean_ci)\n",
    "summary.columns.name = None\n",
    "summary"
   ]
  }
 ],
 "metadata": {
  "kernelspec": {
   "display_name": ".venv",
   "language": "python",
   "name": "python3"
  },
  "language_info": {
   "codemirror_mode": {
    "name": "ipython",
    "version": 3
   },
   "file_extension": ".py",
   "mimetype": "text/x-python",
   "name": "python",
   "nbconvert_exporter": "python",
   "pygments_lexer": "ipython3",
   "version": "3.13.5"
  }
 },
 "nbformat": 4,
 "nbformat_minor": 5
}
