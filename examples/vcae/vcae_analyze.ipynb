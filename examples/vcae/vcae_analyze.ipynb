{
 "cells": [
  {
   "cell_type": "code",
   "execution_count": 1,
   "id": "8410dbd6",
   "metadata": {},
   "outputs": [],
   "source": [
    "# add autoreload and other ipython magic\n",
    "import glob\n",
    "import os\n",
    "\n",
    "import numpy as np\n",
    "import pandas as pd\n",
    "from IPython import get_ipython\n",
    "\n",
    "ipython = get_ipython()\n",
    "ipython.run_line_magic(\"load_ext\", \"autoreload\")\n",
    "ipython.run_line_magic(\"autoreload\", \"2\")\n",
    "ipython.run_line_magic(\"matplotlib\", \"inline\")\n",
    "ipython.run_line_magic(\"config\", 'InlineBackend.figure_format = \"retina\"')"
   ]
  },
  {
   "cell_type": "code",
   "execution_count": null,
   "id": "8ac6e908",
   "metadata": {},
   "outputs": [],
   "source": [
    "# Replace with your folder path\n",
    "folder = os.getcwd()\n",
    "\n",
    "# List all matching CSV files\n",
    "csv_files = glob.glob(os.path.join(folder, \"results_*.csv\"))\n",
    "\n",
    "# Read and concatenate all into a single DataFrame\n",
    "df_all = pd.concat((pd.read_csv(f) for f in csv_files), ignore_index=True)\n",
    "\n",
    "# Make the data longer for analysis\n",
    "df_long = (\n",
    "    df_all.melt(id_vars=\"seed\", var_name=\"variable\", value_name=\"value\")\n",
    "    .assign(\n",
    "        metric=lambda x: x[\"variable\"].str.extract(r\"^([a-zA-Z]+)\"),\n",
    "        method=lambda x: x[\"variable\"].str.extract(r\"_(.*)$\").fillna(\"\"),\n",
    "    )\n",
    "    .drop(columns=[\"variable\"])\n",
    "    .pivot(index=[\"seed\", \"method\"], columns=\"metric\", values=\"value\")\n",
    "    .reset_index()\n",
    "    .drop(columns=[\"seed\"])\n",
    ")"
   ]
  },
  {
   "cell_type": "code",
   "execution_count": null,
   "id": "f854dc62",
   "metadata": {},
   "outputs": [
    {
     "data": {
      "text/html": [
       "<div>\n",
       "<style scoped>\n",
       "    .dataframe tbody tr th:only-of-type {\n",
       "        vertical-align: middle;\n",
       "    }\n",
       "\n",
       "    .dataframe tbody tr th {\n",
       "        vertical-align: top;\n",
       "    }\n",
       "\n",
       "    .dataframe thead th {\n",
       "        text-align: right;\n",
       "    }\n",
       "</style>\n",
       "<table border=\"1\" class=\"dataframe\">\n",
       "  <thead>\n",
       "    <tr style=\"text-align: right;\">\n",
       "      <th></th>\n",
       "      <th>mse</th>\n",
       "      <th>loglik</th>\n",
       "      <th>mmd</th>\n",
       "      <th>fid</th>\n",
       "    </tr>\n",
       "  </thead>\n",
       "  <tbody>\n",
       "    <tr>\n",
       "      <th>initial</th>\n",
       "      <td>0.054 ± 0.001</td>\n",
       "      <td>-17.179 ± 1.131</td>\n",
       "      <td>0.514 ± 0.027</td>\n",
       "      <td>6.259 ± 0.099</td>\n",
       "    </tr>\n",
       "    <tr>\n",
       "      <th>refit</th>\n",
       "      <td>0.052 ± 0.001</td>\n",
       "      <td>-8.098 ± 1.199</td>\n",
       "      <td>0.492 ± 0.03</td>\n",
       "      <td>6.62 ± 0.197</td>\n",
       "    </tr>\n",
       "  </tbody>\n",
       "</table>\n",
       "</div>"
      ],
      "text/plain": [
       "                   mse           loglik            mmd            fid\n",
       "initial  0.054 ± 0.001  -17.179 ± 1.131  0.514 ± 0.027  6.259 ± 0.099\n",
       "refit    0.052 ± 0.001   -8.098 ± 1.199   0.492 ± 0.03   6.62 ± 0.197"
      ]
     },
     "execution_count": 61,
     "metadata": {},
     "output_type": "execute_result"
    }
   ],
   "source": [
    "def mean_ci(x, digits: int = 3) -> str:\n",
    "    x = np.asarray(x, dtype=np.float64)\n",
    "    n = x.size\n",
    "    if n == 0:\n",
    "        return \"nan ± nan\"\n",
    "    mean = np.mean(x)\n",
    "    se = np.std(x, ddof=1) / np.sqrt(n)\n",
    "    ci_half_width = 1.96 * se\n",
    "    return f\"{round(mean, digits)} ± {round(ci_half_width, digits)}\"\n",
    "\n",
    "\n",
    "summary = df_long.groupby(\"method\").agg(mean_ci)\n",
    "summary = summary[[\"mse\", \"loglik\", \"mmd\", \"fid\"]]\n",
    "summary.columns.name = None\n",
    "summary.index.name = None\n",
    "summary"
   ]
  }
 ],
 "metadata": {
  "kernelspec": {
   "display_name": ".venv",
   "language": "python",
   "name": "python3"
  },
  "language_info": {
   "codemirror_mode": {
    "name": "ipython",
    "version": 3
   },
   "file_extension": ".py",
   "mimetype": "text/x-python",
   "name": "python",
   "nbconvert_exporter": "python",
   "pygments_lexer": "ipython3",
   "version": "3.13.5"
  }
 },
 "nbformat": 4,
 "nbformat_minor": 5
}
